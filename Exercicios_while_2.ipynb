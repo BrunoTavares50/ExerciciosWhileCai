{
  "nbformat": 4,
  "nbformat_minor": 0,
  "metadata": {
    "colab": {
      "provenance": [],
      "authorship_tag": "ABX9TyO8w+OLtCJGpyCCRyDZWceQ",
      "include_colab_link": true
    },
    "kernelspec": {
      "name": "python3",
      "display_name": "Python 3"
    },
    "language_info": {
      "name": "python"
    }
  },
  "cells": [
    {
      "cell_type": "markdown",
      "metadata": {
        "id": "view-in-github",
        "colab_type": "text"
      },
      "source": [
        "<a href=\"https://colab.research.google.com/github/BrunoTavares50/ExerciciosWhileCai/blob/main/Exercicios_while_2.ipynb\" target=\"_parent\"><img src=\"https://colab.research.google.com/assets/colab-badge.svg\" alt=\"Open In Colab\"/></a>"
      ]
    },
    {
      "cell_type": "markdown",
      "source": [
        "2-Faça um programa que calcule o mostre a média aritmética de N notas."
      ],
      "metadata": {
        "id": "BGiwohD9Wy8U"
      }
    },
    {
      "cell_type": "code",
      "execution_count": null,
      "metadata": {
        "id": "ob5Phq7nWtZo"
      },
      "outputs": [],
      "source": [
        "soma = 0\n",
        "contador = 0\n",
        "nota = float(input(\"Digite uma nota(caso queira parar a contagem das notas, digite 11 para sair): \"))\n",
        "while nota <= 10:\n",
        "  nota = float(input(\"Digite uma nota(caso queira parar a contagem das notas, digite 11 para sair): \"))\n",
        "  contador += 1\n",
        "  soma += nota\n",
        "  media = soma/contador\n",
        "print(f\"A media das notas digitadas é: {media}\")"
      ]
    },
    {
      "cell_type": "markdown",
      "source": [
        "4- Um funcionário de uma empresa recebe aumento salarial anualmente.\n",
        "Sabe-se que: Esse funcionário foi contratado em 1995, com salário inicial de R$\n",
        "1.000,00; Em 1996 recebeu aumento de 1,5% sobre seu salário inicial; A partir de\n",
        "1997 (inclusive), os aumentos salariais sempre correspondem ao dobro do\n",
        "percentual do ano anterior. Faça um programa que determine o salário atual desse\n",
        "funcionário. Após concluir isto, altere o programa permitindo que o usuário digite o\n",
        "salário inicial do funcionário."
      ],
      "metadata": {
        "id": "PbfiocHyyV2C"
      }
    },
    {
      "cell_type": "code",
      "source": [],
      "metadata": {
        "id": "xHYAtijvyVf-"
      },
      "execution_count": null,
      "outputs": []
    },
    {
      "cell_type": "markdown",
      "source": [
        "5- Faça um programa que leia e valide as seguintes informações:\n",
        " Nome: maior que 3 caracteres;\n",
        " Idade: entre 0 e 150;\n",
        " Salário: maior que zero;\n",
        " Sexo: 'f' ou 'm';\n",
        " Estado Civil: 's', 'c', 'v', 'd';"
      ],
      "metadata": {
        "id": "973l8ezcyw5-"
      }
    },
    {
      "cell_type": "code",
      "source": [
        "nome = input(\"Digite um nome: \")\n",
        "while len(nome) < 4:\n",
        "  print(\"Nome invalido,digite um nome com mais que 3 caracteres: \")\n",
        "  nome = input(\"Digite um nome: \")\n",
        "idade = int(input(\"Digite sua idade: \"))\n",
        "while idade <= 0 or idade >= 150:\n",
        "  print(\"Idade invalida,digite uma idade entre 0 e 150: \")\n",
        "  idade = int(input(\"Digite sua idade: \"))\n",
        "salario = float(input(\"Digite o seu salario: \"))\n",
        "while salario < 0:\n",
        "  print(\"Salario invalido,digite um salario maior que 0: \")\n",
        "  salario = float(input(\"Digite o seu salario: \"))\n",
        "sexo = input(\"Digite o seu sexo: (se for feminino digite f e se for masculino digite m) \")\n",
        "while sexo != \"f\" and sexo != \"m\":\n",
        "  print(\"Sexo invalido,digite f para feminino ou m para masculino: \")\n",
        "  sexo = input(\"Digite o seu sexo: (se for feminino digite f e se for masculino digite m) \")\n",
        "estado_civil = input(\"Digite o seu estado civil: (s para solteiro(a),c para casado(a),v para viuvo(a) ou d para divorciado(a)) \")\n",
        "while estado_civil == \"s\" and estado_civil == \"c\" and estado_civil == \"v\" and estado_civil == \"d\":\n",
        "  print(\"Estado civil invalido,digite s para solteiro(a),c para casado(a),v para viuvo(a) ou d para divorciado(a): \")\n",
        "  estado_civil = input(\"Digite o seu estado civil: (s para solteiro(a),c para casado(a),v para viuvo(a) ou d para divorciado(a)) \")"
      ],
      "metadata": {
        "id": "R_pS9sqyyznW"
      },
      "execution_count": null,
      "outputs": []
    },
    {
      "cell_type": "markdown",
      "source": [
        "6-Supondo que a população de um país A seja da ordem de 80000 habitantes com\n",
        "uma taxa anual de crescimento de 3% e que a população de B seja 200000\n",
        "habitantes com uma taxa de crescimento de 1.5%. Faça um programa que calcule e\n",
        "escreva o número de anos necessários para que a população do país A ultrapasse\n",
        "ou iguale a população do país B, mantidas as taxas de crescimento."
      ],
      "metadata": {
        "id": "VOvvDPof8dO9"
      }
    },
    {
      "cell_type": "code",
      "source": [
        "paisA = 80000\n",
        "taxaA = 3\n",
        "paisB = 200000\n",
        "taxaB = 1.5\n",
        "anos = 0\n",
        "while paisA < paisB:\n",
        "    paisA *= (1 + taxaA / 100)\n",
        "    paisB *= (1 + taxaB / 100)\n",
        "    anos += 1\n",
        "print(f\"Número de anos necessários para a população do país A ultrapassar ou igualar a população do país B é {anos}\")"
      ],
      "metadata": {
        "id": "4MRBzWAQFu9t"
      },
      "execution_count": null,
      "outputs": []
    },
    {
      "cell_type": "markdown",
      "source": [
        "7-Faça um programa que calcule o fatorial de um número inteiro fornecido pelo\n",
        "usuário. Ex.: 5!=5.4.3.2.1=120"
      ],
      "metadata": {
        "id": "iCAN_KdV98YC"
      }
    },
    {
      "cell_type": "code",
      "source": [
        "numero = int(input(\"Digite um numero inteiro: \"))\n",
        "resultado = 1\n",
        "contador = 1\n",
        "while contador <= numero:\n",
        "  resultado *= contador\n",
        "  contador += 1\n",
        "print(f\"O fatorial do numero é: {resultado}\")"
      ],
      "metadata": {
        "id": "URJlDwKV-AsU"
      },
      "execution_count": null,
      "outputs": []
    },
    {
      "cell_type": "markdown",
      "source": [
        "8-Faça um programa que solicite ao usuário números indefinidamente até que ele\n",
        "digite 0. Em seguida, o programa deve imprimir a média dos números digitados."
      ],
      "metadata": {
        "id": "wEYdPycS60mT"
      }
    },
    {
      "cell_type": "code",
      "source": [
        "numero = float(input(\"Digite um numero: \"))\n",
        "soma = 0\n",
        "contador = 1\n",
        "while numero > 0:\n",
        "  numero = float(input(\"Digite outro numero: \"))\n",
        "  soma += numero\n",
        "  contador += 1\n",
        "  media = soma / contador\n",
        "print(f\"A media dos numeros digitados é {media}\")"
      ],
      "metadata": {
        "id": "ThGVd5Rz64en"
      },
      "execution_count": null,
      "outputs": []
    },
    {
      "cell_type": "markdown",
      "source": [
        "10-O Sr. Manoel Joaquim expandiu seus negócios para além dos negócios de 1,99 e\n",
        "agora possui uma loja de conveniências. Faça um programa que implemente uma\n",
        "caixa registradora rudimentar.\n",
        " O programa deverá receber um número desconhecido de valores referentes\n",
        "aos preços das mercadorias. Um valor zero deve ser informado pelo\n",
        "operador para indicar o final da compra.\n",
        " O programa deve então mostrar o total da compra e perguntar o valor em\n",
        "dinheiro que o cliente forneceu, para então calcular e mostrar o valor do\n",
        "troco. Após esta operação, o programa deverá voltar ao ponto inicial, para\n",
        "registrar a próxima compra.\n",
        " A saída deve ser conforme o exemplo abaixo:\n",
        " Lojas Tabajara\n",
        " Produto 1: R$ 2.20\n",
        " Produto 2: R$ 5.80\n",
        " Produto 3: R$ 0\n",
        " Total: R$ 9.00\n",
        " Dinheiro: R$ 20.00\n",
        " Troco: R$ 11.00"
      ],
      "metadata": {
        "id": "80QO09_gB5Ra"
      }
    },
    {
      "cell_type": "code",
      "source": [
        "segue_o_jogo = \"S\"\n",
        "\n",
        "while segue_o_jogo == \"S\" or segue_o_jogo == \"s\":\n",
        "    total = 0\n",
        "    numproduto = 0\n",
        "\n",
        "    precoproduto = float(input(f\"Produto {numproduto + 1} (digite 0 para finalizar): \"))\n",
        "\n",
        "    while precoproduto != 0:\n",
        "        total += precoproduto\n",
        "        numproduto += 1\n",
        "        precoproduto = float(input(f\"Produto {numproduto + 1} (digite 0 para finalizar): \"))\n",
        "\n",
        "    print(f\"Total: R$ {total:.2f}\")\n",
        "\n",
        "    dinheiro = float(input(\"Dinheiro: \"))\n",
        "    troco = dinheiro - total\n",
        "\n",
        "    print(f\"Troco: R$ {troco:.2f}\")\n",
        "\n",
        "    outracompra = input(\"Deseja Comprar Outra Coisa? (S/N): \")\n",
        "\n",
        "    if outracompra == 'N' or outracompra == 'n':\n",
        "        print(\"Tenha um Bom Dia!\")\n",
        "        continuar = 'N'\n",
        "    elif outracompra == 'S' or outracompra == 's':\n",
        "        print(\"Faça Boas Compras!\")\n",
        "    else:\n",
        "        print(\"Opção inválida, encerrando o programa.\")\n",
        "        continuar = 'N'"
      ],
      "metadata": {
        "id": "eNMm_xsgHneO"
      },
      "execution_count": null,
      "outputs": []
    },
    {
      "cell_type": "markdown",
      "source": [
        "11-Faça um programa que leia o código dos itens pedidos e as quantidades desejadas.\n",
        "Calcule e mostre o valor a ser pago por item (preço * quantidade) e o total geral do\n",
        "pedido. Considere que o cliente deve informar quando o pedido deve ser encerrado."
      ],
      "metadata": {
        "id": "LDIGA1VHGxVv"
      }
    }
  ]
}